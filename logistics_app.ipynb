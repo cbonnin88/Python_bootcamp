{
 "cells": [
  {
   "cell_type": "code",
   "execution_count": null,
   "id": "763e13e6",
   "metadata": {
    "vscode": {
     "languageId": "plaintext"
    }
   },
   "outputs": [],
   "source": [
    "class Package:\n",
    "def __init__(self,package_id, sender, receiver, status=\"Pending\"):\n",
    "    self.package_id = package_id\n",
    "    self.sender = sender\n",
    "    "
   ]
  }
 ],
 "metadata": {
  "language_info": {
   "name": "python"
  }
 },
 "nbformat": 4,
 "nbformat_minor": 5
}
