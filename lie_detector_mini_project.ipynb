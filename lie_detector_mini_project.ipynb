{
  "nbformat": 4,
  "nbformat_minor": 0,
  "metadata": {
    "colab": {
      "provenance": [],
      "authorship_tag": "ABX9TyNARYUG0PUmBLybQ4SJScSQ",
      "include_colab_link": true
    },
    "kernelspec": {
      "name": "python3",
      "display_name": "Python 3"
    },
    "language_info": {
      "name": "python"
    }
  },
  "cells": [
    {
      "cell_type": "markdown",
      "metadata": {
        "id": "view-in-github",
        "colab_type": "text"
      },
      "source": [
        "<a href=\"https://colab.research.google.com/github/cbonnin88/Python_Projects/blob/main/lie_detector_mini_project.ipynb\" target=\"_parent\"><img src=\"https://colab.research.google.com/assets/colab-badge.svg\" alt=\"Open In Colab\"/></a>"
      ]
    },
    {
      "cell_type": "code",
      "execution_count": 6,
      "metadata": {
        "id": "JCGueyJf2M_a"
      },
      "outputs": [],
      "source": [
        "import random"
      ]
    },
    {
      "cell_type": "code",
      "source": [
        "# Defining our questions\n",
        "questions = [\n",
        "  \"Did you eat breakfast this morning ?\",\n",
        "  \"Did you go to bed before midnight last night\",\n",
        "  \"Have you ever cheated on a tes?\",\n",
        "  \"Do you like your boss ?\",\n",
        "  \"Have you ever lied to your parents?\"\n",
        "  \"Have you ever stolen something?\",\n",
        "  \"Do you believe in ghosts?\",\n",
        "  \"Have you ever faked being sick to get out of work/school?\",\n",
        "  \"Have you ever broken the law?\",\n",
        "  \"Do you think you're a good person\"\n",
        "]"
      ],
      "metadata": {
        "id": "SrNtVVr42aL2"
      },
      "execution_count": 7,
      "outputs": []
    },
    {
      "cell_type": "code",
      "source": [
        "# Looping through each question and asking the user for a response\n",
        "for question in questions:\n",
        "  response = input(question + \"(yes or no): \").lower()\n",
        "  if response == \"yes\":\n",
        "    user_answer = True\n",
        "  else:\n",
        "    user_answer = False\n",
        "\n",
        "  # Randomly generate a response and compare it to the user response\n",
        "  random_answer = bool(random.getrandbits(1))\n",
        "  if user_answer == random_answer:\n",
        "    print(\"You're telling the truth !\")\n",
        "  else:\n",
        "    print(\"You're lying\")"
      ],
      "metadata": {
        "colab": {
          "base_uri": "https://localhost:8080/"
        },
        "id": "rmp1gHAC2qzL",
        "outputId": "bb63205b-65bf-435c-8db8-2290c1cb9e79"
      },
      "execution_count": 8,
      "outputs": [
        {
          "output_type": "stream",
          "name": "stdout",
          "text": [
            "Did you eat breakfast this morning ?(yes or no): yes\n",
            "You're lying\n",
            "Did you go to bed before midnight last night(yes or no): no\n",
            "You're telling the truth !\n",
            "Have you ever cheated on a tes?(yes or no): yes\n",
            "You're telling the truth !\n",
            "Do you like your boss ?(yes or no): yes\n",
            "You're telling the truth !\n",
            "Have you ever lied to your parents?Have you ever stolen something?(yes or no): no\n",
            "You're telling the truth !\n",
            "Do you believe in ghosts?(yes or no): yes\n",
            "You're telling the truth !\n",
            "Have you ever faked being sick to get out of work/school?(yes or no): no\n",
            "You're telling the truth !\n",
            "Have you ever broken the law?(yes or no): yes\n",
            "You're telling the truth !\n",
            "Do you think you're a good person(yes or no): no\n",
            "You're telling the truth !\n"
          ]
        }
      ]
    }
  ]
}