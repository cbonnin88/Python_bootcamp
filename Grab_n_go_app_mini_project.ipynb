{
  "nbformat": 4,
  "nbformat_minor": 0,
  "metadata": {
    "colab": {
      "provenance": [],
      "authorship_tag": "ABX9TyOGig3DFnfFV1WWB2YouCq3",
      "include_colab_link": true
    },
    "kernelspec": {
      "name": "python3",
      "display_name": "Python 3"
    },
    "language_info": {
      "name": "python"
    }
  },
  "cells": [
    {
      "cell_type": "markdown",
      "metadata": {
        "id": "view-in-github",
        "colab_type": "text"
      },
      "source": [
        "<a href=\"https://colab.research.google.com/github/cbonnin88/Python_Projects/blob/main/Grab_n_go_app_mini_project.ipynb\" target=\"_parent\"><img src=\"https://colab.research.google.com/assets/colab-badge.svg\" alt=\"Open In Colab\"/></a>"
      ]
    },
    {
      "cell_type": "code",
      "execution_count": 19,
      "metadata": {
        "id": "XvOsmeR1ZpF_"
      },
      "outputs": [],
      "source": [
        "class MenuItem:\n",
        "  def __init__(self, name, price):\n",
        "    self.name = name\n",
        "    self.price = price"
      ]
    },
    {
      "cell_type": "code",
      "source": [
        "class Restaurant:\n",
        "  def __init__(self, name):\n",
        "    self.name = name\n",
        "    self.menu = []\n",
        "\n",
        "  def add_item(self,item):\n",
        "    self.menu.append(item)"
      ],
      "metadata": {
        "id": "N3yw2ud0abjB"
      },
      "execution_count": 20,
      "outputs": []
    },
    {
      "cell_type": "code",
      "source": [
        "class User:\n",
        "  def __init__(self, name):\n",
        "    self.name = name\n",
        "    self.cart = []\n",
        "\n",
        "  def add_to_cart(self,item):\n",
        "    self.cart.append(item)\n"
      ],
      "metadata": {
        "id": "DUI0myv7atLG"
      },
      "execution_count": 21,
      "outputs": []
    },
    {
      "cell_type": "code",
      "source": [
        "# Creating the restaurant\n",
        "restaurant1 = Restaurant(\"TGIF\")\n",
        "restaurant2 = Restaurant(\"Cheesecake Factory\")"
      ],
      "metadata": {
        "id": "TLuPY7F-ber5"
      },
      "execution_count": 22,
      "outputs": []
    },
    {
      "cell_type": "code",
      "source": [
        "# Adding menu items to the restaurants\n",
        "restaurant1.add_item(MenuItem(\"Glazed Chicken Burger\", 5.49))\n",
        "restaurant1.add_item(MenuItem(\"Ultimate Ribs\", 8))\n",
        "restaurant2.add_item(MenuItem(\"Chicken Parmesan Sandwich\",10.25))\n",
        "restaurant2.add_item(MenuItem(\"Peanut Butter Oreo Cheesecake\",7.99))"
      ],
      "metadata": {
        "id": "6NuwhrFYb4qC"
      },
      "execution_count": 23,
      "outputs": []
    },
    {
      "cell_type": "code",
      "source": [
        "# Simulate user interaction\n",
        "print(\"Welcome to GrabN Go \")\n",
        "user_name = input(\"Please enter your full name: \")\n",
        "user = User(user_name)\n",
        "\n",
        "print(\"\\nAvailable Restaurants in your area: \")\n",
        "print(\"1. TGIF\")\n",
        "print(\"2. The Cheesecake Factory\")"
      ],
      "metadata": {
        "colab": {
          "base_uri": "https://localhost:8080/"
        },
        "id": "uPBzWR9Zdk1A",
        "outputId": "eea9cb45-6619-4d2e-b413-3e4e552e3549"
      },
      "execution_count": 24,
      "outputs": [
        {
          "output_type": "stream",
          "name": "stdout",
          "text": [
            "Welcome to GrabN Go \n",
            "Please enter your full name: Chris\n",
            "\n",
            "Available Restaurants in your area: \n",
            "1. TGIF\n",
            "2. The Cheesecake Factory\n"
          ]
        }
      ]
    },
    {
      "cell_type": "code",
      "source": [
        "# Allowing our user to select a restaurant\n",
        "restaurant_choice = int(input(\"Enter the number of restaurant you want to order from: \"))\n",
        "selected_restaurant = restaurant1 if restaurant_choice == 1 else restaurant2\n",
        "\n",
        "print(f\"\\nMenu of {selected_restaurant.name}: \")\n",
        "\n",
        "for idx, item in enumerate(selected_restaurant.menu, start=1):\n",
        "  print(f\"{idx}. {item.name} - €{item.price}\")"
      ],
      "metadata": {
        "colab": {
          "base_uri": "https://localhost:8080/"
        },
        "id": "TBnOCvsGedOz",
        "outputId": "579ba2a5-b4c0-48de-dee1-076b5ab93d41"
      },
      "execution_count": 25,
      "outputs": [
        {
          "output_type": "stream",
          "name": "stdout",
          "text": [
            "Enter the number of restaurant you want to order from: 2\n",
            "\n",
            "Menu of Cheesecake Factory: \n",
            "1. Chicken Parmesan Sandwich - €10.25\n",
            "2. Peanut Butter Oreo Cheesecake - €7.99\n"
          ]
        }
      ]
    },
    {
      "cell_type": "code",
      "source": [
        "# Allowing user to add items to their cart\n",
        "while True:\n",
        "  item_choice = input(\"Enter the number of item you want to add to your cart ( or type 'done' to finish): \")\n",
        "  if item_choice.lower()=='done':\n",
        "    break\n",
        "\n",
        "  try:\n",
        "    idx= int(item_choice)\n",
        "    if 1 <= idx <= len(selected_restaurant.menu):\n",
        "      selected_item = selected_restaurant.menu[idx - 1]\n",
        "      user.add_to_cart(selected_item)\n",
        "      print(f\"{selected_item.name} added to cart!\")\n",
        "    else:\n",
        "      print(\"Invalid item number. Please try again\")\n",
        "  except ValueError:\n",
        "    print(\"Invalid input. Please enter a number or 'done'\")\n"
      ],
      "metadata": {
        "colab": {
          "base_uri": "https://localhost:8080/"
        },
        "id": "irtaPAVBfQHm",
        "outputId": "f3e2eb83-ddd7-4340-a088-7625bf82a3c8"
      },
      "execution_count": 27,
      "outputs": [
        {
          "name": "stdout",
          "output_type": "stream",
          "text": [
            "Enter the number of item you want to add to your cart ( or type 'done' to finish): 1\n",
            "Chicken Parmesan Sandwich added to cart!\n",
            "Enter the number of item you want to add to your cart ( or type 'done' to finish): 1\n",
            "Chicken Parmesan Sandwich added to cart!\n",
            "Enter the number of item you want to add to your cart ( or type 'done' to finish): 2\n",
            "Peanut Butter Oreo Cheesecake added to cart!\n",
            "Enter the number of item you want to add to your cart ( or type 'done' to finish): 2\n",
            "Peanut Butter Oreo Cheesecake added to cart!\n",
            "Enter the number of item you want to add to your cart ( or type 'done' to finish): done\n"
          ]
        }
      ]
    },
    {
      "cell_type": "code",
      "source": [
        "# Displaying the users cart and total\n",
        "total_price = sum(item.price for item in user.cart)\n",
        "print(f\"\\n{user.name}'s Cart\")\n",
        "\n",
        "for item in user.cart:\n",
        "  print(f\"- {item.name}: ${item.price}\")\n",
        "\n",
        "print(f\"Total: €{total_price}\")"
      ],
      "metadata": {
        "colab": {
          "base_uri": "https://localhost:8080/"
        },
        "id": "llbHTgzTgpH0",
        "outputId": "33dcfd48-9679-473b-bf97-a6ee996702d2"
      },
      "execution_count": 28,
      "outputs": [
        {
          "output_type": "stream",
          "name": "stdout",
          "text": [
            "\n",
            "Chris's Cart\n",
            "- Chicken Parmesan Sandwich: $10.25\n",
            "- Chicken Parmesan Sandwich: $10.25\n",
            "- Peanut Butter Oreo Cheesecake: $7.99\n",
            "- Peanut Butter Oreo Cheesecake: $7.99\n",
            "- Chicken Parmesan Sandwich: $10.25\n",
            "- Chicken Parmesan Sandwich: $10.25\n",
            "- Peanut Butter Oreo Cheesecake: $7.99\n",
            "- Peanut Butter Oreo Cheesecake: $7.99\n",
            "Total: €72.96\n"
          ]
        }
      ]
    }
  ]
}