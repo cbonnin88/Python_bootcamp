{
  "nbformat": 4,
  "nbformat_minor": 0,
  "metadata": {
    "colab": {
      "provenance": [],
      "authorship_tag": "ABX9TyPfiM06RS1x+rioK5z5SBB3",
      "include_colab_link": true
    },
    "kernelspec": {
      "name": "python3",
      "display_name": "Python 3"
    },
    "language_info": {
      "name": "python"
    }
  },
  "cells": [
    {
      "cell_type": "markdown",
      "metadata": {
        "id": "view-in-github",
        "colab_type": "text"
      },
      "source": [
        "<a href=\"https://colab.research.google.com/github/cbonnin88/Python_Projects/blob/main/pdf_to_word_mini_project.ipynb\" target=\"_parent\"><img src=\"https://colab.research.google.com/assets/colab-badge.svg\" alt=\"Open In Colab\"/></a>"
      ]
    },
    {
      "cell_type": "code",
      "execution_count": 56,
      "metadata": {
        "id": "5ukVYmq-svu4"
      },
      "outputs": [],
      "source": [
        "from pdf2docx import parse\n",
        "import os"
      ]
    },
    {
      "cell_type": "code",
      "source": [
        "pdf_file = \"/practice.pdf\"\n",
        "docx_file = \"/practice.docx\""
      ],
      "metadata": {
        "id": "kPMdhUiF0TU-"
      },
      "execution_count": 57,
      "outputs": []
    },
    {
      "cell_type": "code",
      "source": [
        "parse(pdf_file,docx_file)\n",
        "print(f\"Successfully converted '{pdf_file}' to '{docx_file}' \")"
      ],
      "metadata": {
        "colab": {
          "base_uri": "https://localhost:8080/"
        },
        "id": "BUWWtzfM0AKK",
        "outputId": "a2c35079-9577-4590-fa4f-376b36b0b0c9"
      },
      "execution_count": 58,
      "outputs": [
        {
          "output_type": "stream",
          "name": "stdout",
          "text": [
            "Successfully converted '/practice.pdf' to '/practice.docx' \n"
          ]
        }
      ]
    }
  ]
}